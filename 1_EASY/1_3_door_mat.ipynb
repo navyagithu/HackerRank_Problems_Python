N = 7
M = N*3